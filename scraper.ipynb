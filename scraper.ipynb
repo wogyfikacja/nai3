{
 "cells": [
  {
   "cell_type": "markdown",
   "metadata": {},
   "source": [
    "# simple scraper for wikipedia articles"
   ]
  },
  {
   "cell_type": "code",
   "execution_count": 18,
   "metadata": {},
   "outputs": [],
   "source": [
    "# Import package\n",
    "import wikipedia\n",
    "import re\n",
    "# Specify the title of the Wikipedia page\n",
    "wikipedia.set_lang(\"en\")\n",
    "wiki = wikipedia.page(\"Painting\")\n",
    "# Extract the plain text content of the page\n",
    "text = wiki.content\n",
    "text = re.sub(r'==.*?==+', '', text)\n",
    "text = text.replace('\\n', '')\n",
    "text.encode('utf-8')\n",
    "f = open('pasteFile.txt', 'w', encoding='utf-8')\n",
    "f.write(text)\n",
    "f.close()\n"
   ]
  }
 ],
 "metadata": {
  "interpreter": {
   "hash": "2e268bd7be2cb8637d684cb00515bc4acaecce01087c2454afe52c4a7346d9eb"
  },
  "kernelspec": {
   "display_name": "Python 3.9.12 64-bit (windows store)",
   "language": "python",
   "name": "python3"
  },
  "language_info": {
   "codemirror_mode": {
    "name": "ipython",
    "version": 3
   },
   "file_extension": ".py",
   "mimetype": "text/x-python",
   "name": "python",
   "nbconvert_exporter": "python",
   "pygments_lexer": "ipython3",
   "version": "3.9.12"
  },
  "orig_nbformat": 4
 },
 "nbformat": 4,
 "nbformat_minor": 2
}
