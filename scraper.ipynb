{
 "cells": [
  {
   "cell_type": "markdown",
   "metadata": {},
   "source": [
    "# simple scraper for wikipedia articles"
   ]
  },
  {
   "cell_type": "code",
   "execution_count": 1,
   "metadata": {},
   "outputs": [],
   "source": [
    "# Import package\n",
    "import wikipedia\n",
    "import re\n",
    "# Specify the title of the Wikipedia page\n",
    "wikipedia.set_lang(\"cs\")\n",
    "wiki = wikipedia.page(\"Velká Británie\")\n",
    "# Extract the plain text content of the page\n",
    "text = wiki.content\n",
    "text = re.sub(r'==.*?==+', '', text)\n",
    "text = text.replace('\\n', '')\n",
    "text.encode('utf-8')\n",
    "f = open('dbritain.txt', 'w', encoding='utf-8')\n",
    "f.write(text)\n",
    "f.close()\n"
   ]
  }
 ],
 "metadata": {
  "interpreter": {
   "hash": "2e268bd7be2cb8637d684cb00515bc4acaecce01087c2454afe52c4a7346d9eb"
  },
  "kernelspec": {
   "display_name": "Python 3.9.12 64-bit (windows store)",
   "language": "python",
   "name": "python3"
  },
  "language_info": {
   "codemirror_mode": {
    "name": "ipython",
    "version": 3
   },
   "file_extension": ".py",
   "mimetype": "text/x-python",
   "name": "python",
   "nbconvert_exporter": "python",
   "pygments_lexer": "ipython3",
   "version": "3.9.12"
  },
  "orig_nbformat": 4
 },
 "nbformat": 4,
 "nbformat_minor": 2
}
