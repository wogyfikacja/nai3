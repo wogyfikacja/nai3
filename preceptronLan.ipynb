{
 "cells": [
  {
   "cell_type": "markdown",
   "metadata": {},
   "source": [
    "# imports"
   ]
  },
  {
   "cell_type": "code",
   "execution_count": 294,
   "metadata": {},
   "outputs": [],
   "source": [
    "import pandas as pd\n",
    "import numpy as np\n",
    "import matplotlib.pyplot as mpl\n",
    "import seaborn as sb\n",
    "from collections import Counter\n",
    "import re\n",
    "import os\n",
    "import sys"
   ]
  },
  {
   "cell_type": "markdown",
   "metadata": {},
   "source": [
    "# utilities"
   ]
  },
  {
   "cell_type": "code",
   "execution_count": 295,
   "metadata": {},
   "outputs": [],
   "source": [
    "def countLetters(file):\n",
    "    with open(file,encoding='utf-8') as f:\n",
    "        c = Counter()\n",
    "        for line in f:\n",
    "            toLower = line.lower()\n",
    "            regex = re.compile('[^a-z]')\n",
    "            toLower = regex.sub('', toLower)\n",
    "            c += Counter(toLower.strip())\n",
    "    toRet = pd.DataFrame.from_dict(c, orient='index')\n",
    "    toRet.columns = ['count']\n",
    "    toRet = toRet.sort_index()\n",
    "    toRet = toRet.fillna(0)\n",
    "    return toRet\n",
    "def countLettersInLine(line):\n",
    "    toLower = line.lower()\n",
    "    regex = re.compile('[^a-z]')\n",
    "    toLower = regex.sub('', toLower)\n",
    "    c = Counter(toLower.strip())\n",
    "    toRet = countLetters(\"demo.txt\")\n",
    "    toRet['count'] = 0\n",
    "    \n",
    "    temp = pd.DataFrame.from_dict(c, orient='index')\n",
    "    temp.columns = ['toDelete']\n",
    "    temp = temp.sort_index()\n",
    "    toRet = pd.concat([toRet,temp],axis=1)\n",
    "    toRet = toRet.sort_index()\n",
    "    toRet = toRet.fillna(0)\n",
    "    toRet = toRet.drop(columns=['count'])\n",
    "    return toRet\n",
    "\n",
    "PTHSPLITTER = \"\\\\\""
   ]
  },
  {
   "cell_type": "code",
   "execution_count": 400,
   "metadata": {},
   "outputs": [],
   "source": [
    "class Perceptron:\n",
    "    def __init__(self, language, theta=0, alpha=0.1, beta=0.1):\n",
    "        self.language = language\n",
    "        self.W = countLetters(\"demo.txt\")\n",
    "        self.W['count'] = np.random.uniform(-1,1,len(self.W['count']))\n",
    "        self.theta = theta\n",
    "        self.alpha = alpha\n",
    "        self.beta = beta\n",
    "\n",
    "    def calcLinear(self,X):\n",
    "            return np.dot(self.W['count'],X)\n",
    "\n",
    "    def discreteOut(self,X):\n",
    "            return 1 if self.calcLinear(X) >= self.theta else 0\n",
    "        \n",
    "    def test_all(self,dir):\n",
    "            truePositives = 0\n",
    "            trueNegatives = 0\n",
    "            falsePositives = 0\n",
    "            falseNegatives = 0\n",
    "\n",
    "            X = countLetters('demo.txt')\n",
    "            X['count'] = 0\n",
    "\n",
    "            for root, dirs, files in os.walk(dir):\n",
    "                answer = 1 if root.split(PTHSPLITTER)[-1] == self.language else 0\n",
    "                for file in files:\n",
    "                    X['count'] = countLetters(os.path.join(root,file))['count']\n",
    "                    X = X.fillna(0)\n",
    "                    if self.discreteOut(X['count']) == answer:\n",
    "                        if answer == 1:\n",
    "                            truePositives += 1\n",
    "                        else:\n",
    "                            falseNegatives += 1\n",
    "                    else:\n",
    "                        if answer == 1:\n",
    "                            falsePositives += 1\n",
    "                        else:\n",
    "                            trueNegatives += 1\n",
    "            return {\"truePositives\": truePositives, \"trueNegatives\": trueNegatives, \"falsePositives\": falsePositives, \"falseNegatives\": falseNegatives}\n",
    "\n",
    "    def train(self,dir,epochs):\n",
    "            guess = 0\n",
    "            answer = 0\n",
    "            \n",
    "            X = countLetters('demo.txt')\n",
    "            X['count'] = 0\n",
    "            \n",
    "\n",
    "            for i in range(epochs):\n",
    "                for root, dirs, files in os.walk(dir):\n",
    "                        if root != 'langs\\\\' + self.language:\n",
    "                            continue\n",
    "                        for file in files:\n",
    "                            answer = 1 if root.split(PTHSPLITTER)[-1] == self.language else 0\n",
    "                            X['count'] = countLetters(os.path.join(root,file))['count']\n",
    "                            X = X.fillna(0)\n",
    "                            guess = self.discreteOut(X['count'])\n",
    "                            if guess != answer:\n",
    "                                self.W['count'] += self.alpha * (answer - guess) * X['count']\n",
    "                                self.theta -= self.beta * (answer - guess)\n",
    "                                #normalize W\n",
    "                        self.W['count'] = (self.W['count'] - self.W['count'].mean()) / self.W['count'].std()\n",
    "\n",
    "    def guessLinear(self,lang):\n",
    "        X = countLetters('demo.txt')\n",
    "        X['count'] = 0\n",
    "        X['count'] = countLetters(lang)['count']\n",
    "        X = X.fillna(0)\n",
    "        return self.calcLinear(X['count'])\n",
    "    def printProperties(self):\n",
    "            print(\"Language: \" + self.language)\n",
    "            print(\"Theta: \" + str(self.theta))\n",
    "            print(\"Alpha: \" + str(self.alpha))\n",
    "            print(\"Beta: \" + str(self.beta))\n",
    "            print(\"Weights: \" + str(self.W['count']))\n"
   ]
  },
  {
   "cell_type": "markdown",
   "metadata": {},
   "source": [
    "# properties"
   ]
  },
  {
   "cell_type": "code",
   "execution_count": 401,
   "metadata": {},
   "outputs": [],
   "source": [
    "theta = 0\n",
    "alpha = 0.01\n",
    "beta = 0.001\n",
    "epochs = 500\n"
   ]
  },
  {
   "cell_type": "code",
   "execution_count": 402,
   "metadata": {},
   "outputs": [
    {
     "data": {
      "image/png": "[encoded data removed]",
      "text/plain": [
       "<Figure size 432x288 with 1 Axes>"
      ]
     },
     "metadata": {
      "needs_background": "light"
     },
     "output_type": "display_data"
    }
   ],
   "source": [
    "def plotForLang(lang,langsDir):\n",
    "    X = countLetters(\"demo.txt\")\n",
    "    X['count'] = 0\n",
    "    for root,dirs,files in os.walk(langsDir):\n",
    "        if root.split('\\\\')[-1] == lang:\n",
    "            for file in files:\n",
    "                counted = countLetters('langs/'+ lang + \"/\" + file)\n",
    "                X['count'] = X['count'] + counted['count']\n",
    "    mpl.plot(X,'o')\n",
    "\n",
    "plotForLang('pl','langs')\n",
    "plotForLang('de','langs')\n",
    "plotForLang('cze','langs')\n",
    "\n",
    "mpl.legend(['pl','de','cze'])\n",
    "mpl.show()\n",
    "\n"
   ]
  },
  {
   "cell_type": "markdown",
   "metadata": {},
   "source": [
    "# perceptron training"
   ]
  },
  {
   "cell_type": "code",
   "execution_count": 403,
   "metadata": {},
   "outputs": [
    {
     "name": "stdout",
     "output_type": "stream",
     "text": [
      "Language: cze\n",
      "Theta: -0.001\n",
      "Alpha: 0.01\n",
      "Beta: 0.001\n",
      "Weights: a    1.714764\n",
      "b   -1.284046\n",
      "c   -0.007149\n",
      "d    0.371613\n",
      "e    1.175257\n",
      "f   -0.594352\n",
      "g   -0.508114\n",
      "h   -0.092980\n",
      "i   -0.054350\n",
      "j   -0.548639\n",
      "k    1.383796\n",
      "l   -0.376126\n",
      "m    0.737712\n",
      "n    0.902255\n",
      "o    2.129613\n",
      "p   -0.933248\n",
      "q   -1.321431\n",
      "r    0.204063\n",
      "s    0.999610\n",
      "t   -0.052582\n",
      "u   -0.948592\n",
      "v    0.868360\n",
      "w   -1.789889\n",
      "x   -0.713349\n",
      "y   -0.319871\n",
      "z   -0.942326\n",
      "Name: count, dtype: float64\n",
      "Language: de\n",
      "Theta: -0.001\n",
      "Alpha: 0.01\n",
      "Beta: 0.001\n",
      "Weights: a    0.203431\n",
      "b    0.059005\n",
      "c    0.432914\n",
      "d   -0.531757\n",
      "e    2.107274\n",
      "f   -1.379371\n",
      "g    0.674743\n",
      "h    1.206126\n",
      "i    1.490298\n",
      "j   -1.557721\n",
      "k   -1.495556\n",
      "l   -0.349599\n",
      "m   -0.086638\n",
      "n    1.488164\n",
      "o   -0.832039\n",
      "p   -0.961186\n",
      "q   -0.161407\n",
      "r    0.059931\n",
      "s    1.528714\n",
      "t   -0.007448\n",
      "u   -0.383644\n",
      "v   -1.649593\n",
      "w    0.196898\n",
      "x    0.088603\n",
      "y    0.148482\n",
      "z   -0.288624\n",
      "Name: count, dtype: float64\n",
      "Language: pl\n",
      "Theta: -0.001\n",
      "Alpha: 0.01\n",
      "Beta: 0.001\n",
      "Weights: a    1.538904\n",
      "b   -0.067631\n",
      "c    1.314901\n",
      "d    0.776244\n",
      "e    1.318881\n",
      "f   -1.615582\n",
      "g   -0.421771\n",
      "h   -0.521602\n",
      "i    1.324275\n",
      "j   -0.856980\n",
      "k   -0.750828\n",
      "l   -1.255488\n",
      "m    0.479523\n",
      "n    0.372486\n",
      "o    0.318569\n",
      "p    0.247528\n",
      "q   -1.400671\n",
      "r   -0.592411\n",
      "s    0.715721\n",
      "t   -0.850384\n",
      "u   -0.427338\n",
      "v   -0.184345\n",
      "w   -0.128492\n",
      "x   -1.738641\n",
      "y    0.636852\n",
      "z    1.768278\n",
      "Name: count, dtype: float64\n"
     ]
    },
    {
     "data": {
      "image/png": "[encoded data removed]",
      "text/plain": [
       "<Figure size 432x288 with 1 Axes>"
      ]
     },
     "metadata": {
      "needs_background": "light"
     },
     "output_type": "display_data"
    }
   ],
   "source": [
    "perceptronList = []\n",
    "for root, dirs, files in os.walk('langs'):\n",
    "    for dir in dirs:\n",
    "        perceptronList.append(Perceptron(dir,theta,alpha,beta))\n",
    "for Perc in perceptronList:\n",
    "    Perc.train('langs',epochs)\n",
    "    Perc.printProperties()\n",
    "    mpl.plot(Perc.W,'o')\n",
    "mpl.legend([perceptronList[0].language,perceptronList[1].language,perceptronList[2].language])\n",
    "mpl.show()"
   ]
  },
  {
   "cell_type": "markdown",
   "metadata": {},
   "source": [
    "# test"
   ]
  },
  {
   "cell_type": "code",
   "execution_count": 404,
   "metadata": {},
   "outputs": [
    {
     "name": "stdout",
     "output_type": "stream",
     "text": [
      "cze: {'truePositives': 7, 'trueNegatives': 10, 'falsePositives': 0, 'falseNegatives': 0}\n",
      "de: {'truePositives': 5, 'trueNegatives': 12, 'falsePositives': 0, 'falseNegatives': 0}\n",
      "pl: {'truePositives': 5, 'trueNegatives': 12, 'falsePositives': 0, 'falseNegatives': 0}\n"
     ]
    }
   ],
   "source": [
    "for perceptron in perceptronList:\n",
    "    print(perceptron.language + \": \" + str(perceptron.test_all('langs')))"
   ]
  },
  {
   "cell_type": "markdown",
   "metadata": {},
   "source": [
    "# guess"
   ]
  },
  {
   "cell_type": "code",
   "execution_count": 411,
   "metadata": {},
   "outputs": [
    {
     "name": "stdout",
     "output_type": "stream",
     "text": [
      "{'cze': 2442.814035798423, 'de': 674.7568588720575, 'pl': 1227.8240954284063}\n",
      "cze\n"
     ]
    }
   ],
   "source": [
    "p_guess = dict()\n",
    "for perceptron in perceptronList:\n",
    "    p_guess[perceptron.language] = perceptron.guessLinear(\"pasteFile.txt\")\n",
    "\n",
    "print(p_guess)\n",
    "print(max(p_guess, key=p_guess.get))"
   ]
  }
 ],
 "metadata": {
  "interpreter": {
   "hash": "2e268bd7be2cb8637d684cb00515bc4acaecce01087c2454afe52c4a7346d9eb"
  },
  "kernelspec": {
   "display_name": "Python 3.9.12 64-bit (windows store)",
   "language": "python",
   "name": "python3"
  },
  "language_info": {
   "codemirror_mode": {
    "name": "ipython",
    "version": 3
   },
   "file_extension": ".py",
   "mimetype": "text/x-python",
   "name": "python",
   "nbconvert_exporter": "python",
   "pygments_lexer": "ipython3",
   "version": "3.9.12"
  },
  "orig_nbformat": 4
 },
 "nbformat": 4,
 "nbformat_minor": 2
}
