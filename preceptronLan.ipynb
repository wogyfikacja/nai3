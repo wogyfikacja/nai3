{
 "cells": [
  {
   "cell_type": "markdown",
   "metadata": {},
   "source": [
    "# imports"
   ]
  },
  {
   "cell_type": "code",
   "execution_count": 76,
   "metadata": {},
   "outputs": [],
   "source": [
    "import pandas as pd\n",
    "import numpy as np\n",
    "import matplotlib.pyplot as mpl\n",
    "import seaborn as sb\n",
    "from collections import Counter\n",
    "import re\n",
    "import os\n",
    "import sys"
   ]
  },
  {
   "cell_type": "markdown",
   "metadata": {},
   "source": [
    "# utilities"
   ]
  },
  {
   "cell_type": "code",
   "execution_count": 344,
   "metadata": {},
   "outputs": [],
   "source": [
    "def countLetters(file):\n",
    "    with open(file,encoding='utf-8') as f:\n",
    "        c = Counter()\n",
    "        for line in f:\n",
    "            toLower = line.lower()\n",
    "            regex = re.compile('[^a-z]')\n",
    "            toLower = regex.sub('', toLower)\n",
    "            c += Counter(toLower.strip())\n",
    "    toRet = pd.DataFrame.from_dict(c, orient='index')\n",
    "    toRet.columns = ['count']\n",
    "    toRet = toRet.sort_index()\n",
    "    toRet = toRet.fillna(0)\n",
    "    return toRet\n",
    "def countLettersInLine(line):\n",
    "    toLower = line.lower()\n",
    "    regex = re.compile('[^a-z]')\n",
    "    toLower = regex.sub('', toLower)\n",
    "    c = Counter(toLower.strip())\n",
    "    toRet = countLetters(\"langs/pl/dbrit.txt\")\n",
    "    toRet['count'] = 0\n",
    "    \n",
    "    temp = pd.DataFrame.from_dict(c, orient='index')\n",
    "    temp.columns = ['toDelete']\n",
    "    temp = temp.sort_index()\n",
    "    toRet = pd.concat([toRet,temp],axis=1)\n",
    "    toRet = toRet.sort_index()\n",
    "    toRet = toRet.fillna(0)\n",
    "    toRet = toRet.drop(columns=['count'])\n",
    "    return toRet\n",
    "\n",
    "PTHSPLITTER = \"\\\\\""
   ]
  },
  {
   "cell_type": "code",
   "execution_count": 398,
   "metadata": {},
   "outputs": [],
   "source": [
    "class Perceptron:\n",
    "    def __init__(self, language, theta=0, alpha=0.1, beta=0.1):\n",
    "        self.language = language\n",
    "        self.W = countLetters(\"langs/pl/dbrit.txt\")\n",
    "        self.W['count'] = np.random.rand(len(self.W['count']))\n",
    "        self.theta = theta\n",
    "        self.alpha = alpha\n",
    "        self.beta = beta\n",
    "\n",
    "    def calcLinear(self,X):\n",
    "            return np.dot(self.W['count'],X)\n",
    "\n",
    "    def discreteOut(self,X):\n",
    "            return 1 if self.calcLinear(X) >= self.theta else 0\n",
    "        \n",
    "    def test_all(self,dir):\n",
    "            truePositives = 0\n",
    "            trueNegatives = 0\n",
    "            falsePositives = 0\n",
    "            falseNegatives = 0\n",
    "\n",
    "            X = countLetters('langs/pl/dbrit.txt')\n",
    "            X['count'] = 0\n",
    "\n",
    "            for root, dirs, files in os.walk(dir):\n",
    "                answer = 1 if root.split(PTHSPLITTER)[-1] == self.language else 0\n",
    "                for file in files:\n",
    "                    X['count'] = countLetters('langs/' + self.language + '/' + file)['count']\n",
    "                    #normalize X\n",
    "                    X['count'] = X['count'] / np.linalg.norm(X['count'])\n",
    "                    if self.discreteOut(X['count']) == answer:\n",
    "                        if answer == 1:\n",
    "                            truePositives += 1\n",
    "                        else:\n",
    "                            trueNegatives += 1\n",
    "                    else:\n",
    "                        if answer == 1:\n",
    "                            falsePositives += 1\n",
    "                        else:\n",
    "                            falseNegatives += 1\n",
    "            return {\"truePositives\": truePositives, \"trueNegatives\": trueNegatives, \"falsePositives\": falsePositives, \"falseNegatives\": falseNegatives}\n",
    "\n",
    "    def train(self,dir,epochs):\n",
    "            guess = 0\n",
    "            answer = 0\n",
    "            \n",
    "            X = countLetters('langs/pl/dbrit.txt')\n",
    "            \n",
    "\n",
    "            for i in range(epochs):\n",
    "                for root, dirs, files in os.walk(dir): \n",
    "                    for file in files:\n",
    "                        answer = 1 if root.split(PTHSPLITTER)[-1] == self.language else 0\n",
    "                        openedFile = open('langs/' + self.language + '/' + file,encoding='utf-8')\n",
    "\n",
    "                        for line in openedFile:\n",
    "                            X = countLettersInLine(line)\n",
    "                            #normalize X\n",
    "                            X['toDelete'] = X['toDelete'] / np.linalg.norm(X['toDelete'])\n",
    "                            guess = self.discreteOut(X['toDelete'])\n",
    "                            if guess != answer:\n",
    "                                self.W['count'] += self.alpha * (answer - guess) * X['toDelete']\n",
    "                                self.theta -= self.beta * (answer - guess)\n",
    "                                #normalize weights\n",
    "                                self.W['count'] = self.W['count'] / np.linalg.norm(self.W['count'])\n",
    "                                self.theta = self.theta / np.linalg.norm(self.W['count'])\n",
    "             #normalize weights\n",
    "            self.W['count'] = self.W['count'] / np.linalg.norm(self.W['count'])\n",
    "\n",
    "    def guessLinear(self,lang):\n",
    "        X = countLetters('langs/pl/dbrit.txt')\n",
    "        X['count'] = 0\n",
    "        X['count'] = countLetters(lang)\n",
    "        X = X.fillna(0)\n",
    "        X['count'] = X['count'] / np.linalg.norm(X['count'])\n",
    "        return self.calcLinear(X['count'])\n",
    "    def printProperties(self):\n",
    "            print(\"Language: \" + self.language)\n",
    "            print(\"Theta: \" + str(self.theta))\n",
    "            print(\"Alpha: \" + str(self.alpha))\n",
    "            print(\"Beta: \" + str(self.beta))\n",
    "            print(\"Weights: \" + str(self.W['count']))\n"
   ]
  },
  {
   "cell_type": "markdown",
   "metadata": {},
   "source": [
    "# properties"
   ]
  },
  {
   "cell_type": "code",
   "execution_count": 389,
   "metadata": {},
   "outputs": [],
   "source": [
    "theta = 0.1\n",
    "alpha = 0.00001\n",
    "beta = 0.0001\n",
    "epochs = 100\n"
   ]
  },
  {
   "cell_type": "code",
   "execution_count": 193,
   "metadata": {},
   "outputs": [
    {
     "data": {
      "image/png": "[encoded data removed]",
      "text/plain": [
       "<Figure size 432x288 with 1 Axes>"
      ]
     },
     "metadata": {
      "needs_background": "light"
     },
     "output_type": "display_data"
    }
   ],
   "source": [
    "def plotForLang(lang,langsDir):\n",
    "    X = countLetters(\"langs/pl/dbrit.txt\")\n",
    "    X['count'] = 0\n",
    "    for root,dirs,files in os.walk(langsDir):\n",
    "        if root.split('\\\\')[-1] == lang:\n",
    "            for file in files:\n",
    "                counted = countLetters('langs/'+ lang + \"/\" + file)\n",
    "                X['count'] = X['count'] + counted['count']\n",
    "    mpl.plot(X,'o')\n",
    "\n",
    "plotForLang('pl','langs')\n",
    "plotForLang('de','langs')\n",
    "plotForLang('en','langs')\n",
    "\n",
    "mpl.legend(['pl','de','en'])\n",
    "mpl.show()\n",
    "\n"
   ]
  },
  {
   "cell_type": "markdown",
   "metadata": {},
   "source": [
    "# perceptron training"
   ]
  },
  {
   "cell_type": "code",
   "execution_count": 399,
   "metadata": {},
   "outputs": [
    {
     "name": "stdout",
     "output_type": "stream",
     "text": [
      "Language: de\n",
      "Theta: 0.14000000000000168\n",
      "Alpha: 1e-05\n",
      "Beta: 0.0001\n",
      "Weights: a    0.273358\n",
      "b    0.033721\n",
      "c    0.277536\n",
      "d    0.242629\n",
      "e    0.178579\n",
      "f    0.102068\n",
      "g    0.328461\n",
      "h    0.282698\n",
      "i    0.051910\n",
      "j    0.175567\n",
      "k    0.182012\n",
      "l    0.150872\n",
      "m    0.122143\n",
      "n    0.254091\n",
      "o    0.041112\n",
      "p    0.209999\n",
      "q    0.228107\n",
      "r    0.292697\n",
      "s    0.008783\n",
      "t    0.162757\n",
      "u    0.053416\n",
      "v    0.314999\n",
      "w    0.024552\n",
      "x    0.222624\n",
      "y    0.027964\n",
      "z    0.161728\n",
      "Name: count, dtype: float64\n",
      "Language: de\n",
      "Theta: 0.14000000000000173\n",
      "Alpha: 1e-05\n",
      "Beta: 0.0001\n",
      "Weights: a    0.083857\n",
      "b    0.309957\n",
      "c    0.288843\n",
      "d    0.165665\n",
      "e    0.289834\n",
      "f    0.305248\n",
      "g    0.213032\n",
      "h    0.041541\n",
      "i    0.203973\n",
      "j    0.068544\n",
      "k    0.158996\n",
      "l    0.104713\n",
      "m    0.188526\n",
      "n    0.076256\n",
      "o    0.303415\n",
      "p    0.148085\n",
      "q    0.162134\n",
      "r    0.169064\n",
      "s    0.308310\n",
      "t    0.057601\n",
      "u    0.085187\n",
      "v    0.020928\n",
      "w    0.180281\n",
      "x    0.314758\n",
      "y    0.139545\n",
      "z    0.108866\n",
      "Name: count, dtype: float64\n",
      "Language: en\n",
      "Theta: 0.14000000000000212\n",
      "Alpha: 1e-05\n",
      "Beta: 0.0001\n",
      "Weights: a    0.228325\n",
      "b    0.167528\n",
      "c    0.210745\n",
      "d    0.134847\n",
      "e    0.303724\n",
      "f    0.270283\n",
      "g    0.212234\n",
      "h    0.030048\n",
      "i    0.118799\n",
      "j    0.110203\n",
      "k    0.270443\n",
      "l    0.008559\n",
      "m    0.257246\n",
      "n    0.235147\n",
      "o    0.195038\n",
      "p    0.178852\n",
      "q    0.154321\n",
      "r    0.230098\n",
      "s    0.226250\n",
      "t    0.035561\n",
      "u    0.272814\n",
      "v    0.081386\n",
      "w    0.228590\n",
      "x    0.205623\n",
      "y    0.194827\n",
      "z    0.110600\n",
      "Name: count, dtype: float64\n",
      "Language: en\n",
      "Theta: 0.14000000000000135\n",
      "Alpha: 1e-05\n",
      "Beta: 0.0001\n",
      "Weights: a    0.047713\n",
      "b    0.296115\n",
      "c    0.084975\n",
      "d    0.256364\n",
      "e    0.039718\n",
      "f    0.201042\n",
      "g    0.292007\n",
      "h    0.241528\n",
      "i    0.098888\n",
      "j    0.246818\n",
      "k    0.238919\n",
      "l    0.218430\n",
      "m    0.148140\n",
      "n    0.284723\n",
      "o    0.232471\n",
      "p    0.184482\n",
      "q    0.146969\n",
      "r    0.251029\n",
      "s    0.038791\n",
      "t    0.041775\n",
      "u    0.030826\n",
      "v    0.022671\n",
      "w    0.292738\n",
      "x    0.049382\n",
      "y    0.281649\n",
      "z    0.167708\n",
      "Name: count, dtype: float64\n",
      "Language: pl\n",
      "Theta: 0.14000000000000173\n",
      "Alpha: 1e-05\n",
      "Beta: 0.0001\n",
      "Weights: a    0.306529\n",
      "b    0.287128\n",
      "c    0.207421\n",
      "d    0.325139\n",
      "e    0.295726\n",
      "f    0.208958\n",
      "g    0.148882\n",
      "h    0.095114\n",
      "i    0.014637\n",
      "j    0.164650\n",
      "k    0.096077\n",
      "l    0.233721\n",
      "m    0.092620\n",
      "n    0.227135\n",
      "o    0.051588\n",
      "p    0.271459\n",
      "q    0.311537\n",
      "r    0.055773\n",
      "s    0.005433\n",
      "t    0.283836\n",
      "u    0.049030\n",
      "v    0.016322\n",
      "w    0.215177\n",
      "x    0.004210\n",
      "y    0.234277\n",
      "z    0.013975\n",
      "Name: count, dtype: float64\n",
      "Language: pl\n",
      "Theta: 0.140000000000002\n",
      "Alpha: 1e-05\n",
      "Beta: 0.0001\n",
      "Weights: a    0.118537\n",
      "b    0.341639\n",
      "c    0.232133\n",
      "d    0.199134\n",
      "e    0.299748\n",
      "f    0.274645\n",
      "g    0.102925\n",
      "h    0.155714\n",
      "i    0.094322\n",
      "j    0.122189\n",
      "k    0.143227\n",
      "l    0.188365\n",
      "m    0.010520\n",
      "n    0.118290\n",
      "o    0.019140\n",
      "p    0.083453\n",
      "q    0.163238\n",
      "r    0.379468\n",
      "s    0.262577\n",
      "t    0.191522\n",
      "u    0.187363\n",
      "v    0.374671\n",
      "w    0.105884\n",
      "x    0.039746\n",
      "y    0.031277\n",
      "z    0.093779\n",
      "Name: count, dtype: float64\n"
     ]
    },
    {
     "data": {
      "image/png": "[encoded data removed]",
      "text/plain": [
       "<Figure size 432x288 with 1 Axes>"
      ]
     },
     "metadata": {
      "needs_background": "light"
     },
     "output_type": "display_data"
    }
   ],
   "source": [
    "perceptronList = []\n",
    "for root, dirs, files in os.walk('langs'):\n",
    "    for file in files:\n",
    "        perceptronList.append(Perceptron(root.split(PTHSPLITTER)[-1],theta,alpha,beta))\n",
    "for Perc in perceptronList:\n",
    "    Perc.train('langs',epochs)\n",
    "    Perc.printProperties()\n",
    "    mpl.plot(Perc.W,'o')\n",
    "mpl.legend([perceptronList[0].language,perceptronList[1].language,perceptronList[2].language])\n",
    "mpl.show()"
   ]
  },
  {
   "cell_type": "markdown",
   "metadata": {},
   "source": [
    "# test"
   ]
  },
  {
   "cell_type": "code",
   "execution_count": 370,
   "metadata": {},
   "outputs": [
    {
     "name": "stdout",
     "output_type": "stream",
     "text": [
      "de: {'truePositives': 2, 'trueNegatives': 0, 'falsePositives': 0, 'falseNegatives': 4}\n",
      "de: {'truePositives': 2, 'trueNegatives': 0, 'falsePositives': 0, 'falseNegatives': 4}\n",
      "en: {'truePositives': 2, 'trueNegatives': 0, 'falsePositives': 0, 'falseNegatives': 4}\n",
      "en: {'truePositives': 2, 'trueNegatives': 0, 'falsePositives': 0, 'falseNegatives': 4}\n",
      "pl: {'truePositives': 2, 'trueNegatives': 0, 'falsePositives': 0, 'falseNegatives': 4}\n",
      "pl: {'truePositives': 2, 'trueNegatives': 0, 'falsePositives': 0, 'falseNegatives': 4}\n"
     ]
    }
   ],
   "source": [
    "for perceptron in perceptronList:\n",
    "    print(perceptron.language + \": \" + str(perceptron.test_all('langs')))"
   ]
  },
  {
   "cell_type": "markdown",
   "metadata": {},
   "source": [
    "# guess"
   ]
  },
  {
   "cell_type": "code",
   "execution_count": 402,
   "metadata": {},
   "outputs": [
    {
     "name": "stdout",
     "output_type": "stream",
     "text": [
      "{'de': 0.6874022082455259, 'en': 0.5577227449588266, 'pl': 0.696371323738519}\n",
      "en\n"
     ]
    }
   ],
   "source": [
    "p_guess = dict()\n",
    "for perceptron in perceptronList:\n",
    "    p_guess[perceptron.language] = perceptron.guessLinear(\"pasteFile.txt\")\n",
    "\n",
    "print(p_guess)\n",
    "print(min(p_guess, key=p_guess.get))"
   ]
  }
 ],
 "metadata": {
  "interpreter": {
   "hash": "2e268bd7be2cb8637d684cb00515bc4acaecce01087c2454afe52c4a7346d9eb"
  },
  "kernelspec": {
   "display_name": "Python 3.9.12 64-bit (windows store)",
   "language": "python",
   "name": "python3"
  },
  "language_info": {
   "codemirror_mode": {
    "name": "ipython",
    "version": 3
   },
   "file_extension": ".py",
   "mimetype": "text/x-python",
   "name": "python",
   "nbconvert_exporter": "python",
   "pygments_lexer": "ipython3",
   "version": "3.9.12"
  },
  "orig_nbformat": 4
 },
 "nbformat": 4,
 "nbformat_minor": 2
}
